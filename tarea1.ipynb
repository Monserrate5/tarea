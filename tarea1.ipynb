{
  "nbformat": 4,
  "nbformat_minor": 0,
  "metadata": {
    "colab": {
      "provenance": [],
      "authorship_tag": "ABX9TyMMGjrBM2qdoNhxi4kNM34G",
      "include_colab_link": true
    },
    "kernelspec": {
      "name": "python3",
      "display_name": "Python 3"
    },
    "language_info": {
      "name": "python"
    }
  },
  "cells": [
    {
      "cell_type": "markdown",
      "metadata": {
        "id": "view-in-github",
        "colab_type": "text"
      },
      "source": [
        "<a href=\"https://colab.research.google.com/github/Monserrate5/tarea/blob/main/tarea1.ipynb\" target=\"_parent\"><img src=\"https://colab.research.google.com/assets/colab-badge.svg\" alt=\"Open In Colab\"/></a>"
      ]
    },
    {
      "cell_type": "code",
      "execution_count": 2,
      "metadata": {
        "colab": {
          "base_uri": "https://localhost:8080/"
        },
        "id": "qCk2oTzB0cJu",
        "outputId": "ef6cf9f2-827f-473a-dd67-f728c86eb3f0"
      },
      "outputs": [
        {
          "output_type": "stream",
          "name": "stdout",
          "text": [
            "Python 3.10.12\n"
          ]
        }
      ],
      "source": [
        "!python --version"
      ]
    },
    {
      "cell_type": "code",
      "source": [
        "import numpy as np\n",
        "tarea=np.array([3,33,333])\n",
        "print(tarea)\n",
        "print(tarea.shape)"
      ],
      "metadata": {
        "colab": {
          "base_uri": "https://localhost:8080/"
        },
        "id": "r7Jy9pWn03bJ",
        "outputId": "2c7d7533-a5ca-43d1-c278-7fd012bfe82f"
      },
      "execution_count": 6,
      "outputs": [
        {
          "output_type": "stream",
          "name": "stdout",
          "text": [
            "[  3  33 333]\n",
            "(3,)\n"
          ]
        }
      ]
    },
    {
      "cell_type": "code",
      "source": [
        "b=np.zeros((4,6))\n",
        "b\n",
        "print(b.shape)\n",
        "print(b)\n",
        "b[3,3]=120\n",
        "print(b)\n",
        "print(b[:,[2,3]])\n",
        "#print(b)\n",
        "\n",
        "print(b[:,[3,2]])\n",
        "#print(b)"
      ],
      "metadata": {
        "colab": {
          "base_uri": "https://localhost:8080/"
        },
        "id": "2HbfJLZq2yRQ",
        "outputId": "8f22d0d9-c7fe-4747-9453-a87a65cd95f8"
      },
      "execution_count": 10,
      "outputs": [
        {
          "output_type": "stream",
          "name": "stdout",
          "text": [
            "(4, 6)\n",
            "[[0. 0. 0. 0. 0. 0.]\n",
            " [0. 0. 0. 0. 0. 0.]\n",
            " [0. 0. 0. 0. 0. 0.]\n",
            " [0. 0. 0. 0. 0. 0.]]\n",
            "[[  0.   0.   0.   0.   0.   0.]\n",
            " [  0.   0.   0.   0.   0.   0.]\n",
            " [  0.   0.   0.   0.   0.   0.]\n",
            " [  0.   0.   0. 120.   0.   0.]]\n",
            "[[  0.   0.]\n",
            " [  0.   0.]\n",
            " [  0.   0.]\n",
            " [  0. 120.]]\n",
            "[[  0.   0.]\n",
            " [  0.   0.]\n",
            " [  0.   0.]\n",
            " [120.   0.]]\n"
          ]
        }
      ]
    },
    {
      "cell_type": "code",
      "source": [
        "c=np.random.randint(low=4,high=12,size=(2,2))\n",
        "c"
      ],
      "metadata": {
        "colab": {
          "base_uri": "https://localhost:8080/"
        },
        "id": "fciIfPQo4Llx",
        "outputId": "c6d019bf-1c1a-4df5-f8b5-787a06f2953c"
      },
      "execution_count": 18,
      "outputs": [
        {
          "output_type": "execute_result",
          "data": {
            "text/plain": [
              "array([[ 8, 11],\n",
              "       [ 4,  4]])"
            ]
          },
          "metadata": {},
          "execution_count": 18
        }
      ]
    },
    {
      "cell_type": "code",
      "source": [
        "d=np.random.randint(low=1,high=8,size=(2,2))\n",
        "d"
      ],
      "metadata": {
        "colab": {
          "base_uri": "https://localhost:8080/"
        },
        "id": "SNNYehhC4sdg",
        "outputId": "567028c1-447a-4b25-e5ea-ae8e14449afc"
      },
      "execution_count": 20,
      "outputs": [
        {
          "output_type": "execute_result",
          "data": {
            "text/plain": [
              "array([[5, 3],\n",
              "       [3, 6]])"
            ]
          },
          "metadata": {},
          "execution_count": 20
        }
      ]
    },
    {
      "cell_type": "code",
      "source": [
        "aux=np.vstack((c,d))\n",
        "print(aux)"
      ],
      "metadata": {
        "colab": {
          "base_uri": "https://localhost:8080/"
        },
        "id": "k51zmqu65pfY",
        "outputId": "f3d8a560-c70a-4ff0-9100-e5487ba75a11"
      },
      "execution_count": 19,
      "outputs": [
        {
          "output_type": "stream",
          "name": "stdout",
          "text": [
            "[[ 8 11]\n",
            " [ 4  4]\n",
            " [ 2  7]\n",
            " [ 4  7]]\n"
          ]
        }
      ]
    },
    {
      "cell_type": "code",
      "source": [
        "aux=np.hstack((c,d))\n",
        "print(aux)"
      ],
      "metadata": {
        "colab": {
          "base_uri": "https://localhost:8080/"
        },
        "id": "CQICDXon6O6H",
        "outputId": "c89a9a32-3be5-49f8-8206-3d40a5d02958"
      },
      "execution_count": 21,
      "outputs": [
        {
          "output_type": "stream",
          "name": "stdout",
          "text": [
            "[[ 8 11  5  3]\n",
            " [ 4  4  3  6]]\n"
          ]
        }
      ]
    },
    {
      "cell_type": "code",
      "source": [],
      "metadata": {
        "id": "2ePv-VmT6XtH"
      },
      "execution_count": null,
      "outputs": []
    }
  ]
}